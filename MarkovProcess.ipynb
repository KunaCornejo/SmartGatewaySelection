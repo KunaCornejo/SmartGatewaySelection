{
  "nbformat": 4,
  "nbformat_minor": 0,
  "metadata": {
    "colab": {
      "name": "MarkovProcess.ipynb",
      "provenance": [],
      "authorship_tag": "ABX9TyPrz3pGceRYfy9nzgjmOE6k",
      "include_colab_link": true
    },
    "kernelspec": {
      "name": "python3",
      "display_name": "Python 3"
    }
  },
  "cells": [
    {
      "cell_type": "markdown",
      "metadata": {
        "id": "view-in-github",
        "colab_type": "text"
      },
      "source": [
        "<a href=\"https://colab.research.google.com/github/KunaCornejo/SmartGatewaySelection/blob/main/MarkovProcess.ipynb\" target=\"_parent\"><img src=\"https://colab.research.google.com/assets/colab-badge.svg\" alt=\"Open In Colab\"/></a>"
      ]
    },
    {
      "cell_type": "code",
      "metadata": {
        "id": "CHInTohcokQr"
      },
      "source": [
        "import numpy as np\n",
        "import pandas as pd\n",
        "from random import seed\n",
        "from random import random\n",
        "from numpy import genfromtxt\n",
        "from scipy.linalg import eig\n",
        "import matplotlib.pyplot as plt\n",
        "import matplotlib\n",
        "import matplotlib.ticker\n",
        "from matplotlib.pyplot import figure\n",
        "from matplotlib.pyplot import grid"
      ],
      "execution_count": null,
      "outputs": []
    }
  ]
}