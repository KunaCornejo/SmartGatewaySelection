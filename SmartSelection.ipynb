{
  "nbformat": 4,
  "nbformat_minor": 0,
  "metadata": {
    "colab": {
      "name": "SmartSelection.ipynb",
      "provenance": [],
      "authorship_tag": "ABX9TyOb4GugqHje2k33+djMhWf2",
      "include_colab_link": true
    },
    "kernelspec": {
      "name": "python3",
      "display_name": "Python 3"
    }
  },
  "cells": [
    {
      "cell_type": "markdown",
      "metadata": {
        "id": "view-in-github",
        "colab_type": "text"
      },
      "source": [
        "<a href=\"https://colab.research.google.com/github/KunaCornejo/SmartGatewaySelection/blob/main/SmartSelection.ipynb\" target=\"_parent\"><img src=\"https://colab.research.google.com/assets/colab-badge.svg\" alt=\"Open In Colab\"/></a>"
      ]
    },
    {
      "cell_type": "code",
      "metadata": {
        "id": "vZvUhxMPGyq-"
      },
      "source": [
        "import numpy as np\n",
        "from numpy import genfromtxt\n",
        "from geopy.distance import great_circle"
      ],
      "execution_count": 1,
      "outputs": []
    },
    {
      "cell_type": "code",
      "metadata": {
        "colab": {
          "base_uri": "https://localhost:8080/"
        },
        "id": "GN1VhBfZI-Kf",
        "outputId": "176dd3d2-80bb-4455-86ae-ec9a5dce346b"
      },
      "source": [
        "#import git\n",
        "!git clone https://github.com/KunaCornejo/SmartGatewaySelection.git\n"
      ],
      "execution_count": 2,
      "outputs": [
        {
          "output_type": "stream",
          "text": [
            "Cloning into 'SmartGatewaySelection'...\n",
            "remote: Enumerating objects: 21, done.\u001b[K\n",
            "remote: Counting objects: 100% (21/21), done.\u001b[K\n",
            "remote: Compressing objects: 100% (20/20), done.\u001b[K\n",
            "remote: Total 21 (delta 4), reused 0 (delta 0), pack-reused 0\u001b[K\n",
            "Unpacking objects: 100% (21/21), done.\n"
          ],
          "name": "stdout"
        }
      ]
    },
    {
      "cell_type": "code",
      "metadata": {
        "colab": {
          "base_uri": "https://localhost:8080/"
        },
        "id": "FSxIFPN1JyUT",
        "outputId": "e7bc924e-3720-40fa-d6f3-e0ba17331408"
      },
      "source": [
        "ls 'SmartGatewaySelection'"
      ],
      "execution_count": 3,
      "outputs": [
        {
          "output_type": "stream",
          "text": [
            "c_n_ul.csv  Matriz_Train_90.csv.zip  SmartSelection.ipynb\n"
          ],
          "name": "stdout"
        }
      ]
    },
    {
      "cell_type": "code",
      "metadata": {
        "id": "JyI2ZPZnJ4BA"
      },
      "source": [
        "c_n_ul = genfromtxt('/content/SmartGatewaySelection/c_n_ul.csv', delimiter=',') \n",
        "c_n_ul=list(c_n_ul)"
      ],
      "execution_count": 4,
      "outputs": []
    },
    {
      "cell_type": "code",
      "metadata": {
        "colab": {
          "base_uri": "https://localhost:8080/"
        },
        "id": "5UfxiIBNXJim",
        "outputId": "33db314b-b017-44e5-823f-d9e65aebdcdc"
      },
      "source": [
        "ubicaciones=['Panama','San Jose','Tegucigalpa','Mexico City','Monterrey','Guadalajara'\\\n",
        "             ,'Tijuana','La Habana','Sto. Domingo','San Salvador','San Juan',\\\n",
        "             'Torreon','La Paz (BC)','Veracruz','Cancun','Queretaro'\\\n",
        "             ,'Tuxtla (Gtz)','Cd. Juarez','San Pedro Sula','Belmopan','Kingston'\\\n",
        "             ,'Merida','Pto. Cabezas','Oaxaca']\n",
        "ubicaciones=np.transpose([ubicaciones])\n",
        "C_N_UL=np.array([c_n_ul],dtype=object) \n",
        "C_N_UL=np.transpose(C_N_UL)\n",
        "C_N_UL=np.delete(C_N_UL, 15, 0) #Get rid of Chihuahua, it is not necessary\n",
        "CN_UP=np.concatenate((ubicaciones,C_N_UL),axis=1) #Concatenate two lists\n",
        "print(CN_UP)"
      ],
      "execution_count": 5,
      "outputs": [
        {
          "output_type": "stream",
          "text": [
            "[['Panama' 32.4401636]\n",
            " ['San Jose' 32.4611016]\n",
            " ['Tegucigalpa' 32.4450513]\n",
            " ['Mexico City' 32.3918091]\n",
            " ['Monterrey' 32.313151]\n",
            " ['Guadalajara' 32.3588726]\n",
            " ['Tijuana' 32.0981607]\n",
            " ['La Habana' 32.3380601]\n",
            " ['Sto. Domingo' 32.2887155]\n",
            " ['San Salvador' 32.4521009]\n",
            " ['San Juan' 32.2438352]\n",
            " ['Torreon' 32.301041]\n",
            " ['La Paz (BC)' 32.2705558]\n",
            " ['Veracruz' 32.4018877]\n",
            " ['Cancun' 32.3779865]\n",
            " ['Queretaro' 32.3736176]\n",
            " ['Tuxtla (Gtz)' 32.4294244]\n",
            " ['Cd. Juarez' 32.195777]\n",
            " ['San Pedro Sula' 32.4354086]\n",
            " ['Belmopan' 32.4215586]\n",
            " ['Kingston' 32.3572017]\n",
            " ['Merida' 32.3851709]\n",
            " ['Pto. Cabezas' 32.4314209]\n",
            " ['Oaxaca' 32.4205395]]\n"
          ],
          "name": "stdout"
        }
      ]
    },
    {
      "cell_type": "code",
      "metadata": {
        "colab": {
          "base_uri": "https://localhost:8080/"
        },
        "id": "Z5qrAdeRX58y",
        "outputId": "5eaa43ae-6b1f-415f-e9fc-c31596639d32"
      },
      "source": [
        "# Python code to sort the array using second element  \n",
        "# of sublist Function to sort using sorted() \n",
        "def Sort(sub_li): \n",
        "    # reverse = None (Sorts in Ascending order) \n",
        "    # key is set to sort using second element of  \n",
        "    # sublist lambda has been used \n",
        "    return(sorted(sub_li, key = lambda x: x[1], reverse = True)) \n",
        "    #X[] es la columna que vamos a ordenar\n",
        "# Driver Code \n",
        "sub_li = CN_UP\n",
        "sub_li= np.array(Sort(sub_li))  #Just test the sorted list \n",
        "print(sub_li)"
      ],
      "execution_count": 6,
      "outputs": [
        {
          "output_type": "stream",
          "text": [
            "[['San Jose' 32.4611016]\n",
            " ['San Salvador' 32.4521009]\n",
            " ['Tegucigalpa' 32.4450513]\n",
            " ['Panama' 32.4401636]\n",
            " ['San Pedro Sula' 32.4354086]\n",
            " ['Pto. Cabezas' 32.4314209]\n",
            " ['Tuxtla (Gtz)' 32.4294244]\n",
            " ['Belmopan' 32.4215586]\n",
            " ['Oaxaca' 32.4205395]\n",
            " ['Veracruz' 32.4018877]\n",
            " ['Mexico City' 32.3918091]\n",
            " ['Merida' 32.3851709]\n",
            " ['Cancun' 32.3779865]\n",
            " ['Queretaro' 32.3736176]\n",
            " ['Guadalajara' 32.3588726]\n",
            " ['Kingston' 32.3572017]\n",
            " ['La Habana' 32.3380601]\n",
            " ['Monterrey' 32.313151]\n",
            " ['Torreon' 32.301041]\n",
            " ['Sto. Domingo' 32.2887155]\n",
            " ['La Paz (BC)' 32.2705558]\n",
            " ['San Juan' 32.2438352]\n",
            " ['Cd. Juarez' 32.195777]\n",
            " ['Tijuana' 32.0981607]]\n"
          ],
          "name": "stdout"
        }
      ]
    },
    {
      "cell_type": "code",
      "metadata": {
        "id": "b_6vdNvsamZ3"
      },
      "source": [
        "#Unzip the .csv file\n",
        "import zipfile #import ZipFile\n",
        "with zipfile.ZipFile('/content/SmartGatewaySelection/Matriz_Train_90.csv.zip','r') as zip_ref:\n",
        "    zip_ref.extractall('content')"
      ],
      "execution_count": 7,
      "outputs": []
    },
    {
      "cell_type": "code",
      "metadata": {
        "id": "CbxHR2PKYnC8"
      },
      "source": [
        "#It is imported the predicted rain attenuation matrix obtained from Deep Learning Model \n",
        "Matrix_Arain = genfromtxt('content/Matriz_Train_90.csv', delimiter=',')\n",
        "Matrix_Arain = np.delete(Matrix_Arain, 15, 0) #Get rid of Chihuahua, it is not necessary"
      ],
      "execution_count": 14,
      "outputs": []
    },
    {
      "cell_type": "code",
      "metadata": {
        "id": "wn-u_mbxb2cl"
      },
      "source": [
        "#The CNIR Matrix is padding by zeros in order to load values later.\n",
        "CNIR=np.zeros((len(CN_UP[:,0]),len(Matrix_Arain[0,:])),dtype=float)\n",
        "Y=np.zeros((len(CN_UP[:,0]),len(Matrix_Arain[0,:])),dtype=int) \n",
        "prob=np.zeros((len(CN_UP[:,0]),1),dtype=float)  #Array 24x1"
      ],
      "execution_count": 17,
      "outputs": []
    },
    {
      "cell_type": "code",
      "metadata": {
        "id": "h1P_SuXp1xiz"
      },
      "source": [
        "CI_co = 36.09  #C/I co-channel at 50 GHz (offset-paraboli-reflctor antenna simulations)\n",
        "CI_adj = 38.17 #C/I adjacent at 50 Ghz\n",
        "trh = 14.00    #CNIR Threshold\n",
        "\n",
        "#CNIR [C/(N+I)] calculations for each feeder link at time-step t+1 \n",
        "#(due to the predicted rain attenuation)\n",
        "#Further, it calculates every feeder link availability \n",
        "\n",
        "for i in range(len(CN_UP[:,0])):\n",
        "    CNIR[i,:]=CN_UP[i,1]-Matrix_Arain[i,0:]\n",
        "    CNIR[i,:]=10*np.log10(1/(1/(np.power(10,CNIR[i,0:]/10))+1/(np.power(10,CI_co/10))\\\n",
        "        +1/(np.power(10,CI_adj/10))))     \n",
        "    for j in range(len(CNIR[i,0:])):\n",
        "        if CNIR[i,j]>=trh: \n",
        "            Y[i,j]=1\n",
        "    prob[i,0]=sum(Y[i,0:])/len(Y[i,0:])\n",
        "Y=np.array(Y,dtype=object)\n",
        "estado = np.concatenate((ubicaciones,prob,Y),axis=1)"
      ],
      "execution_count": 21,
      "outputs": []
    },
    {
      "cell_type": "code",
      "metadata": {
        "id": "H6-xFLZyAsjf",
        "outputId": "c65033be-c8bb-413f-deda-fe80b2018290",
        "colab": {
          "base_uri": "https://localhost:8080/",
          "height": 375
        }
      },
      "source": [
        "#To obtain geographic coordinates from each location in order to find\n",
        "#the distance matrix D\n",
        "sites = genfromtxt('/content/SmartGatewaySelection/Locaciones.csv', delimiter=',') \n",
        "sites=np.array(sites,dtype=float)\n",
        "sites=np.delete(sites, 15, 0) #Get rid of Chihuahua, it is not necessary\n",
        "#Creamos Matriz de Distancias entre ubicaciones\n",
        "D=np.zeros((len(sites[0:,0]),len(sites[0:,0])),dtype=float)\n",
        "\n",
        "for i in range(len(sites[0:,0])):\n",
        "    for j in range(len(sites[0:,0])):\n",
        "        D[i,j]=great_circle((sites[i,0],sites[i,1]),(sites[j,0],sites[j,1])).kilometers\n",
        "\n",
        "D=np.array(D,dtype=object)\n",
        "D_tag = np.concatenate((ubicaciones,D),axis=1) #Columna de encabezados\n",
        "ubic = ubicaciones.tolist() #Convierte un array en una lista\n",
        "ubic.insert(0,[''])\n",
        "ubic = np.transpose(ubic)\n",
        "D_tag = np.concatenate((ubic,D_tag),axis=0) #Fila de encabezados\n",
        "\n",
        "#To save the distance matrix D\n",
        "#np.savetxt('.../Distance.csv',D_tag,fmt='%s',delimiter=',')\n",
        "print('done')"
      ],
      "execution_count": 22,
      "outputs": [
        {
          "output_type": "error",
          "ename": "OSError",
          "evalue": "ignored",
          "traceback": [
            "\u001b[0;31m---------------------------------------------------------------------------\u001b[0m",
            "\u001b[0;31mOSError\u001b[0m                                   Traceback (most recent call last)",
            "\u001b[0;32m<ipython-input-22-0d6ec24bb572>\u001b[0m in \u001b[0;36m<module>\u001b[0;34m()\u001b[0m\n\u001b[1;32m      1\u001b[0m \u001b[0;31m#To obtain geographic coordinates from each location in order to find\u001b[0m\u001b[0;34m\u001b[0m\u001b[0;34m\u001b[0m\u001b[0;34m\u001b[0m\u001b[0m\n\u001b[1;32m      2\u001b[0m \u001b[0;31m#the distance matrix D\u001b[0m\u001b[0;34m\u001b[0m\u001b[0;34m\u001b[0m\u001b[0;34m\u001b[0m\u001b[0m\n\u001b[0;32m----> 3\u001b[0;31m \u001b[0msites\u001b[0m \u001b[0;34m=\u001b[0m \u001b[0mgenfromtxt\u001b[0m\u001b[0;34m(\u001b[0m\u001b[0;34m'/content/SmartGatewaySelection/Locaciones.csv'\u001b[0m\u001b[0;34m,\u001b[0m \u001b[0mdelimiter\u001b[0m\u001b[0;34m=\u001b[0m\u001b[0;34m','\u001b[0m\u001b[0;34m)\u001b[0m\u001b[0;34m\u001b[0m\u001b[0;34m\u001b[0m\u001b[0m\n\u001b[0m\u001b[1;32m      4\u001b[0m \u001b[0msites\u001b[0m\u001b[0;34m=\u001b[0m\u001b[0mnp\u001b[0m\u001b[0;34m.\u001b[0m\u001b[0marray\u001b[0m\u001b[0;34m(\u001b[0m\u001b[0msites\u001b[0m\u001b[0;34m,\u001b[0m\u001b[0mdtype\u001b[0m\u001b[0;34m=\u001b[0m\u001b[0mfloat\u001b[0m\u001b[0;34m)\u001b[0m\u001b[0;34m\u001b[0m\u001b[0;34m\u001b[0m\u001b[0m\n\u001b[1;32m      5\u001b[0m \u001b[0msites\u001b[0m\u001b[0;34m=\u001b[0m\u001b[0mnp\u001b[0m\u001b[0;34m.\u001b[0m\u001b[0mdelete\u001b[0m\u001b[0;34m(\u001b[0m\u001b[0msites\u001b[0m\u001b[0;34m,\u001b[0m \u001b[0;36m15\u001b[0m\u001b[0;34m,\u001b[0m \u001b[0;36m0\u001b[0m\u001b[0;34m)\u001b[0m \u001b[0;31m#Get rid of Chihuahua, it is not necessary\u001b[0m\u001b[0;34m\u001b[0m\u001b[0;34m\u001b[0m\u001b[0m\n",
            "\u001b[0;32m/usr/local/lib/python3.6/dist-packages/numpy/lib/npyio.py\u001b[0m in \u001b[0;36mgenfromtxt\u001b[0;34m(fname, dtype, comments, delimiter, skip_header, skip_footer, converters, missing_values, filling_values, usecols, names, excludelist, deletechars, replace_space, autostrip, case_sensitive, defaultfmt, unpack, usemask, loose, invalid_raise, max_rows, encoding)\u001b[0m\n\u001b[1;32m   1747\u001b[0m             \u001b[0mfname\u001b[0m \u001b[0;34m=\u001b[0m \u001b[0mos_fspath\u001b[0m\u001b[0;34m(\u001b[0m\u001b[0mfname\u001b[0m\u001b[0;34m)\u001b[0m\u001b[0;34m\u001b[0m\u001b[0;34m\u001b[0m\u001b[0m\n\u001b[1;32m   1748\u001b[0m         \u001b[0;32mif\u001b[0m \u001b[0misinstance\u001b[0m\u001b[0;34m(\u001b[0m\u001b[0mfname\u001b[0m\u001b[0;34m,\u001b[0m \u001b[0mstr\u001b[0m\u001b[0;34m)\u001b[0m\u001b[0;34m:\u001b[0m\u001b[0;34m\u001b[0m\u001b[0;34m\u001b[0m\u001b[0m\n\u001b[0;32m-> 1749\u001b[0;31m             \u001b[0mfid\u001b[0m \u001b[0;34m=\u001b[0m \u001b[0mnp\u001b[0m\u001b[0;34m.\u001b[0m\u001b[0mlib\u001b[0m\u001b[0;34m.\u001b[0m\u001b[0m_datasource\u001b[0m\u001b[0;34m.\u001b[0m\u001b[0mopen\u001b[0m\u001b[0;34m(\u001b[0m\u001b[0mfname\u001b[0m\u001b[0;34m,\u001b[0m \u001b[0;34m'rt'\u001b[0m\u001b[0;34m,\u001b[0m \u001b[0mencoding\u001b[0m\u001b[0;34m=\u001b[0m\u001b[0mencoding\u001b[0m\u001b[0;34m)\u001b[0m\u001b[0;34m\u001b[0m\u001b[0;34m\u001b[0m\u001b[0m\n\u001b[0m\u001b[1;32m   1750\u001b[0m             \u001b[0mfid_ctx\u001b[0m \u001b[0;34m=\u001b[0m \u001b[0mcontextlib\u001b[0m\u001b[0;34m.\u001b[0m\u001b[0mclosing\u001b[0m\u001b[0;34m(\u001b[0m\u001b[0mfid\u001b[0m\u001b[0;34m)\u001b[0m\u001b[0;34m\u001b[0m\u001b[0;34m\u001b[0m\u001b[0m\n\u001b[1;32m   1751\u001b[0m         \u001b[0;32melse\u001b[0m\u001b[0;34m:\u001b[0m\u001b[0;34m\u001b[0m\u001b[0;34m\u001b[0m\u001b[0m\n",
            "\u001b[0;32m/usr/local/lib/python3.6/dist-packages/numpy/lib/_datasource.py\u001b[0m in \u001b[0;36mopen\u001b[0;34m(path, mode, destpath, encoding, newline)\u001b[0m\n\u001b[1;32m    193\u001b[0m \u001b[0;34m\u001b[0m\u001b[0m\n\u001b[1;32m    194\u001b[0m     \u001b[0mds\u001b[0m \u001b[0;34m=\u001b[0m \u001b[0mDataSource\u001b[0m\u001b[0;34m(\u001b[0m\u001b[0mdestpath\u001b[0m\u001b[0;34m)\u001b[0m\u001b[0;34m\u001b[0m\u001b[0;34m\u001b[0m\u001b[0m\n\u001b[0;32m--> 195\u001b[0;31m     \u001b[0;32mreturn\u001b[0m \u001b[0mds\u001b[0m\u001b[0;34m.\u001b[0m\u001b[0mopen\u001b[0m\u001b[0;34m(\u001b[0m\u001b[0mpath\u001b[0m\u001b[0;34m,\u001b[0m \u001b[0mmode\u001b[0m\u001b[0;34m,\u001b[0m \u001b[0mencoding\u001b[0m\u001b[0;34m=\u001b[0m\u001b[0mencoding\u001b[0m\u001b[0;34m,\u001b[0m \u001b[0mnewline\u001b[0m\u001b[0;34m=\u001b[0m\u001b[0mnewline\u001b[0m\u001b[0;34m)\u001b[0m\u001b[0;34m\u001b[0m\u001b[0;34m\u001b[0m\u001b[0m\n\u001b[0m\u001b[1;32m    196\u001b[0m \u001b[0;34m\u001b[0m\u001b[0m\n\u001b[1;32m    197\u001b[0m \u001b[0;34m\u001b[0m\u001b[0m\n",
            "\u001b[0;32m/usr/local/lib/python3.6/dist-packages/numpy/lib/_datasource.py\u001b[0m in \u001b[0;36mopen\u001b[0;34m(self, path, mode, encoding, newline)\u001b[0m\n\u001b[1;32m    533\u001b[0m                                       encoding=encoding, newline=newline)\n\u001b[1;32m    534\u001b[0m         \u001b[0;32melse\u001b[0m\u001b[0;34m:\u001b[0m\u001b[0;34m\u001b[0m\u001b[0;34m\u001b[0m\u001b[0m\n\u001b[0;32m--> 535\u001b[0;31m             \u001b[0;32mraise\u001b[0m \u001b[0mIOError\u001b[0m\u001b[0;34m(\u001b[0m\u001b[0;34m\"%s not found.\"\u001b[0m \u001b[0;34m%\u001b[0m \u001b[0mpath\u001b[0m\u001b[0;34m)\u001b[0m\u001b[0;34m\u001b[0m\u001b[0;34m\u001b[0m\u001b[0m\n\u001b[0m\u001b[1;32m    536\u001b[0m \u001b[0;34m\u001b[0m\u001b[0m\n\u001b[1;32m    537\u001b[0m \u001b[0;34m\u001b[0m\u001b[0m\n",
            "\u001b[0;31mOSError\u001b[0m: /content/SmartGatewaySelection/Locaciones.csv not found."
          ]
        }
      ]
    }
  ]
}