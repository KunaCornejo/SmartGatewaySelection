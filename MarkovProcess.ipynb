{
  "nbformat": 4,
  "nbformat_minor": 0,
  "metadata": {
    "colab": {
      "name": "MarkovProcess.ipynb",
      "provenance": [],
      "authorship_tag": "ABX9TyOsn1mbsYi+kzDQ2SFoQonM",
      "include_colab_link": true
    },
    "kernelspec": {
      "name": "python3",
      "display_name": "Python 3"
    }
  },
  "cells": [
    {
      "cell_type": "markdown",
      "metadata": {
        "id": "view-in-github",
        "colab_type": "text"
      },
      "source": [
        "<a href=\"https://colab.research.google.com/github/KunaCornejo/SmartGatewaySelection/blob/main/MarkovProcess.ipynb\" target=\"_parent\"><img src=\"https://colab.research.google.com/assets/colab-badge.svg\" alt=\"Open In Colab\"/></a>"
      ]
    },
    {
      "cell_type": "code",
      "metadata": {
        "id": "CHInTohcokQr"
      },
      "source": [
        "import numpy as np\n",
        "import pandas as pd\n",
        "from random import seed\n",
        "from random import random\n",
        "from numpy import genfromtxt\n",
        "from scipy.linalg import eig\n",
        "import matplotlib.pyplot as plt\n",
        "import matplotlib\n",
        "import matplotlib.ticker\n",
        "from matplotlib.pyplot import figure\n",
        "from matplotlib.pyplot import grid"
      ],
      "execution_count": 1,
      "outputs": []
    },
    {
      "cell_type": "code",
      "metadata": {
        "colab": {
          "base_uri": "https://localhost:8080/"
        },
        "id": "OZi_-cb_00g5",
        "outputId": "24d40e0d-2d87-48c8-e40f-bfb95e9f7fdf"
      },
      "source": [
        "#import git\n",
        "!git clone https://github.com/KunaCornejo/SmartGatewaySelection.git"
      ],
      "execution_count": 2,
      "outputs": [
        {
          "output_type": "stream",
          "text": [
            "Cloning into 'SmartGatewaySelection'...\n",
            "remote: Enumerating objects: 72, done.\u001b[K\n",
            "remote: Counting objects: 100% (72/72), done.\u001b[K\n",
            "remote: Compressing objects: 100% (71/71), done.\u001b[K\n",
            "remote: Total 72 (delta 27), reused 0 (delta 0), pack-reused 0\u001b[K\n",
            "Unpacking objects: 100% (72/72), done.\n"
          ],
          "name": "stdout"
        }
      ]
    },
    {
      "cell_type": "code",
      "metadata": {
        "colab": {
          "base_uri": "https://localhost:8080/"
        },
        "id": "la7_0D5R232Q",
        "outputId": "18820f1e-e0f8-4ad6-c26d-0d1b5a71300a"
      },
      "source": [
        "ls 'SmartGatewaySelection'"
      ],
      "execution_count": 3,
      "outputs": [
        {
          "output_type": "stream",
          "text": [
            "avai_12_d_80.csv  Locaciones.csv           out_4_d_80.csv\n",
            "avai_16_d_80.csv  MarkovProcess.ipynb      out_8_d_80.csv\n",
            "avai_4_d_80.csv   Matriz_Train_90.csv.zip  Pout.csv\n",
            "avai_8_d_80.csv   out_12_d_80.csv          SmartSelection.ipynb\n",
            "c_n_ul.csv        out_16_d_80.csv\n"
          ],
          "name": "stdout"
        }
      ]
    },
    {
      "cell_type": "code",
      "metadata": {
        "id": "Td5nfc6E26da"
      },
      "source": [
        "#Outage Probabilities (Pout) were obtained from the Recommendation ITU-R P.837 \n",
        "Pout = genfromtxt('/content/SmartGatewaySelection/Pout.csv', delimiter=',') \n",
        "Pout=list(Pout)\n",
        "locations=['Panama','San Jose','Tegucigalpa','Mexico City','Monterrey','Guadalajara'\\\n",
        "             ,'Tijuana','La Habana','Sto. Domingo','San Salvador','San Juan',\\\n",
        "             'Torreon','La Paz (BC)','Veracruz','Cancun','Queretaro'\\\n",
        "             ,'Tuxtla (Gtz)','Cd. Juarez','San Pedro Sula','Belmopan','Kingston'\\\n",
        "             ,'Merida','Pto. Cabezas','Oaxaca']\n",
        "locations=np.transpose([locations])\n",
        "Pout=np.array([Pout],dtype=object)\n",
        "Pout=np.transpose(Pout)"
      ],
      "execution_count": 6,
      "outputs": []
    },
    {
      "cell_type": "code",
      "metadata": {
        "id": "6_YgkI0I3oP6"
      },
      "source": [
        "P_out=np.concatenate((locations,Pout/100),axis=1) #Concatenate two lists, Outage Probabilities\n",
        "P_avai=np.concatenate((locations,1-(Pout/100)),axis=1) #oncatenate two lists, 1-Pout"
      ],
      "execution_count": 8,
      "outputs": []
    },
    {
      "cell_type": "code",
      "metadata": {
        "colab": {
          "base_uri": "https://localhost:8080/"
        },
        "id": "KoZw-pRv43BC",
        "outputId": "dd7715ff-776b-4969-befd-5e78f379dfdd"
      },
      "source": [
        "# Python code to sort the array using second element  \n",
        "# of sublist Function to sort using sorted() \n",
        "def Sort(sub_li): \n",
        "    return(sorted(sub_li, key = lambda x: x[1], reverse = True)) \n",
        "P_avai= np.array(Sort(P_avai))  #Testing the sorted list\n",
        "print(P_avai)#1-P0_i\n",
        "#If you want to save the list\n",
        "#np.savetxt('/.../Lista_Ordenada.csv',P_avai,fmt='%s',delimiter=',')"
      ],
      "execution_count": 9,
      "outputs": [
        {
          "output_type": "stream",
          "text": [
            "[['La Paz (BC)' 0.996159]\n",
            " ['Torreon' 0.994467]\n",
            " ['Cd. Juarez' 0.992021]\n",
            " ['Merida' 0.983967]\n",
            " ['Monterrey' 0.983478]\n",
            " ['Tijuana' 0.982616]\n",
            " ['Queretaro' 0.979687]\n",
            " ['Cancun' 0.975239]\n",
            " ['Oaxaca' 0.973763]\n",
            " ['La Habana' 0.97287]\n",
            " ['Tegucigalpa' 0.972761]\n",
            " ['Tuxtla (Gtz)' 0.972703]\n",
            " ['Guadalajara' 0.972293]\n",
            " ['Kingston' 0.971399]\n",
            " ['Veracruz' 0.970905]\n",
            " ['Sto. Domingo' 0.967115]\n",
            " ['San Juan' 0.967112]\n",
            " ['Mexico City' 0.964513]\n",
            " ['San Salvador' 0.963801]\n",
            " ['San Pedro Sula' 0.961438]\n",
            " ['Panama' 0.959222]\n",
            " ['Belmopan' 0.956845]\n",
            " ['Pto. Cabezas' 0.947301]\n",
            " ['San Jose' 0.93558]]\n"
          ],
          "name": "stdout"
        }
      ]
    }
  ]
}