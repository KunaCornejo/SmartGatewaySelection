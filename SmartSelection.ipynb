{
  "nbformat": 4,
  "nbformat_minor": 0,
  "metadata": {
    "colab": {
      "name": "SmartSelection.ipynb",
      "provenance": [],
      "authorship_tag": "ABX9TyOlm+O19MNjB8X3f8f+//4z",
      "include_colab_link": true
    },
    "kernelspec": {
      "name": "python3",
      "display_name": "Python 3"
    }
  },
  "cells": [
    {
      "cell_type": "markdown",
      "metadata": {
        "id": "view-in-github",
        "colab_type": "text"
      },
      "source": [
        "<a href=\"https://colab.research.google.com/github/KunaCornejo/SmartGatewaySelection/blob/main/SmartSelection.ipynb\" target=\"_parent\"><img src=\"https://colab.research.google.com/assets/colab-badge.svg\" alt=\"Open In Colab\"/></a>"
      ]
    },
    {
      "cell_type": "code",
      "metadata": {
        "id": "vZvUhxMPGyq-"
      },
      "source": [
        "import numpy as np\n",
        "from numpy import genfromtxt\n",
        "from geopy.distance import great_circle"
      ],
      "execution_count": 2,
      "outputs": []
    },
    {
      "cell_type": "code",
      "metadata": {
        "colab": {
          "base_uri": "https://localhost:8080/"
        },
        "id": "GN1VhBfZI-Kf",
        "outputId": "a80c8bbe-e7f9-48e8-c493-c5ad75d7b5b4"
      },
      "source": [
        "#import git\n",
        "!git clone https://github.com/KunaCornejo/SmartGatewaySelection.git\n"
      ],
      "execution_count": 3,
      "outputs": [
        {
          "output_type": "stream",
          "text": [
            "Cloning into 'SmartGatewaySelection'...\n",
            "remote: Enumerating objects: 36, done.\u001b[K\n",
            "remote: Counting objects: 100% (36/36), done.\u001b[K\n",
            "remote: Compressing objects: 100% (35/35), done.\u001b[K\n",
            "remote: Total 36 (delta 14), reused 0 (delta 0), pack-reused 0\u001b[K\n",
            "Unpacking objects: 100% (36/36), done.\n"
          ],
          "name": "stdout"
        }
      ]
    },
    {
      "cell_type": "code",
      "metadata": {
        "colab": {
          "base_uri": "https://localhost:8080/"
        },
        "id": "FSxIFPN1JyUT",
        "outputId": "e6086e52-63e3-49a2-f690-7d90f01a8e5a"
      },
      "source": [
        "ls 'SmartGatewaySelection'"
      ],
      "execution_count": 4,
      "outputs": [
        {
          "output_type": "stream",
          "text": [
            "c_n_ul.csv  Locaciones.csv  Matriz_Train_90.csv.zip  SmartSelection.ipynb\n"
          ],
          "name": "stdout"
        }
      ]
    },
    {
      "cell_type": "code",
      "metadata": {
        "id": "JyI2ZPZnJ4BA"
      },
      "source": [
        "c_n_ul = genfromtxt('/content/SmartGatewaySelection/c_n_ul.csv', delimiter=',') \n",
        "c_n_ul=list(c_n_ul)"
      ],
      "execution_count": 5,
      "outputs": []
    },
    {
      "cell_type": "code",
      "metadata": {
        "colab": {
          "base_uri": "https://localhost:8080/"
        },
        "id": "5UfxiIBNXJim",
        "outputId": "229f8a11-383e-423a-8b68-396914120e78"
      },
      "source": [
        "ubicaciones=['Panama','San Jose','Tegucigalpa','Mexico City','Monterrey','Guadalajara'\\\n",
        "             ,'Tijuana','La Habana','Sto. Domingo','San Salvador','San Juan',\\\n",
        "             'Torreon','La Paz (BC)','Veracruz','Cancun','Queretaro'\\\n",
        "             ,'Tuxtla (Gtz)','Cd. Juarez','San Pedro Sula','Belmopan','Kingston'\\\n",
        "             ,'Merida','Pto. Cabezas','Oaxaca']\n",
        "ubicaciones=np.transpose([ubicaciones])\n",
        "C_N_UL=np.array([c_n_ul],dtype=object) \n",
        "C_N_UL=np.transpose(C_N_UL)\n",
        "C_N_UL=np.delete(C_N_UL, 15, 0) #Get rid of Chihuahua, it is not necessary\n",
        "CN_UP=np.concatenate((ubicaciones,C_N_UL),axis=1) #Concatenate two lists\n",
        "print(CN_UP)"
      ],
      "execution_count": 6,
      "outputs": [
        {
          "output_type": "stream",
          "text": [
            "[['Panama' 32.4401636]\n",
            " ['San Jose' 32.4611016]\n",
            " ['Tegucigalpa' 32.4450513]\n",
            " ['Mexico City' 32.3918091]\n",
            " ['Monterrey' 32.313151]\n",
            " ['Guadalajara' 32.3588726]\n",
            " ['Tijuana' 32.0981607]\n",
            " ['La Habana' 32.3380601]\n",
            " ['Sto. Domingo' 32.2887155]\n",
            " ['San Salvador' 32.4521009]\n",
            " ['San Juan' 32.2438352]\n",
            " ['Torreon' 32.301041]\n",
            " ['La Paz (BC)' 32.2705558]\n",
            " ['Veracruz' 32.4018877]\n",
            " ['Cancun' 32.3779865]\n",
            " ['Queretaro' 32.3736176]\n",
            " ['Tuxtla (Gtz)' 32.4294244]\n",
            " ['Cd. Juarez' 32.195777]\n",
            " ['San Pedro Sula' 32.4354086]\n",
            " ['Belmopan' 32.4215586]\n",
            " ['Kingston' 32.3572017]\n",
            " ['Merida' 32.3851709]\n",
            " ['Pto. Cabezas' 32.4314209]\n",
            " ['Oaxaca' 32.4205395]]\n"
          ],
          "name": "stdout"
        }
      ]
    },
    {
      "cell_type": "code",
      "metadata": {
        "colab": {
          "base_uri": "https://localhost:8080/"
        },
        "id": "Z5qrAdeRX58y",
        "outputId": "a65df60a-77a4-475b-d166-9a9a82626c3a"
      },
      "source": [
        "# Python code to sort the array using second element  \n",
        "# of sublist Function to sort using sorted() \n",
        "def Sort(sub_li): \n",
        "    # reverse = None (Sorts in Ascending order) \n",
        "    # key is set to sort using second element of  \n",
        "    # sublist lambda has been used \n",
        "    return(sorted(sub_li, key = lambda x: x[1], reverse = True)) \n",
        "    #X[] es la columna que vamos a ordenar\n",
        "# Driver Code \n",
        "sub_li = CN_UP\n",
        "sub_li= np.array(Sort(sub_li))  #Just test the sorted list \n",
        "print(sub_li)"
      ],
      "execution_count": 7,
      "outputs": [
        {
          "output_type": "stream",
          "text": [
            "[['San Jose' 32.4611016]\n",
            " ['San Salvador' 32.4521009]\n",
            " ['Tegucigalpa' 32.4450513]\n",
            " ['Panama' 32.4401636]\n",
            " ['San Pedro Sula' 32.4354086]\n",
            " ['Pto. Cabezas' 32.4314209]\n",
            " ['Tuxtla (Gtz)' 32.4294244]\n",
            " ['Belmopan' 32.4215586]\n",
            " ['Oaxaca' 32.4205395]\n",
            " ['Veracruz' 32.4018877]\n",
            " ['Mexico City' 32.3918091]\n",
            " ['Merida' 32.3851709]\n",
            " ['Cancun' 32.3779865]\n",
            " ['Queretaro' 32.3736176]\n",
            " ['Guadalajara' 32.3588726]\n",
            " ['Kingston' 32.3572017]\n",
            " ['La Habana' 32.3380601]\n",
            " ['Monterrey' 32.313151]\n",
            " ['Torreon' 32.301041]\n",
            " ['Sto. Domingo' 32.2887155]\n",
            " ['La Paz (BC)' 32.2705558]\n",
            " ['San Juan' 32.2438352]\n",
            " ['Cd. Juarez' 32.195777]\n",
            " ['Tijuana' 32.0981607]]\n"
          ],
          "name": "stdout"
        }
      ]
    },
    {
      "cell_type": "code",
      "metadata": {
        "id": "b_6vdNvsamZ3"
      },
      "source": [
        "#Unzip the .csv file\n",
        "import zipfile #import ZipFile\n",
        "with zipfile.ZipFile('/content/SmartGatewaySelection/Matriz_Train_90.csv.zip','r') as zip_ref:\n",
        "    zip_ref.extractall('content')"
      ],
      "execution_count": 8,
      "outputs": []
    },
    {
      "cell_type": "code",
      "metadata": {
        "id": "CbxHR2PKYnC8"
      },
      "source": [
        "#It is imported the predicted rain attenuation matrix obtained from Deep Learning Model \n",
        "Matrix_Arain = genfromtxt('content/Matriz_Train_90.csv', delimiter=',')\n",
        "Matrix_Arain = np.delete(Matrix_Arain, 15, 0) #Get rid of Chihuahua, it is not necessary"
      ],
      "execution_count": 11,
      "outputs": []
    },
    {
      "cell_type": "code",
      "metadata": {
        "id": "wn-u_mbxb2cl"
      },
      "source": [
        "#The CNIR Matrix is padding by zeros in order to load values later.\n",
        "CNIR=np.zeros((len(CN_UP[:,0]),len(Matrix_Arain[0,:])),dtype=float)\n",
        "Y=np.zeros((len(CN_UP[:,0]),len(Matrix_Arain[0,:])),dtype=int) \n",
        "prob=np.zeros((len(CN_UP[:,0]),1),dtype=float)  #Array 24x1"
      ],
      "execution_count": 12,
      "outputs": []
    },
    {
      "cell_type": "code",
      "metadata": {
        "id": "h1P_SuXp1xiz"
      },
      "source": [
        "CI_co = 36.09  #C/I co-channel at 50 GHz (offset-paraboli-reflctor antenna simulations)\n",
        "CI_adj = 38.17 #C/I adjacent at 50 Ghz\n",
        "trh = 14.00    #CNIR Threshold\n",
        "\n",
        "#CNIR [C/(N+I)] calculations for each feeder link at time-step t+1 \n",
        "#(due to the predicted rain attenuation)\n",
        "#Further, it calculates every feeder link availability \n",
        "\n",
        "for i in range(len(CN_UP[:,0])):\n",
        "    CNIR[i,:]=CN_UP[i,1]-Matrix_Arain[i,0:]\n",
        "    CNIR[i,:]=10*np.log10(1/(1/(np.power(10,CNIR[i,0:]/10))+1/(np.power(10,CI_co/10))\\\n",
        "        +1/(np.power(10,CI_adj/10))))     \n",
        "    for j in range(len(CNIR[i,0:])):\n",
        "        if CNIR[i,j]>=trh: \n",
        "            Y[i,j]=1\n",
        "    prob[i,0]=sum(Y[i,0:])/len(Y[i,0:])\n",
        "Y=np.array(Y,dtype=object)\n",
        "estado = np.concatenate((ubicaciones,prob,Y),axis=1)"
      ],
      "execution_count": 13,
      "outputs": []
    },
    {
      "cell_type": "code",
      "metadata": {
        "colab": {
          "base_uri": "https://localhost:8080/"
        },
        "id": "H6-xFLZyAsjf",
        "outputId": "4f0b29cd-7ceb-455c-9b99-c365c297499d"
      },
      "source": [
        "#To obtain geographic coordinates from each location in order to find\n",
        "#the distance matrix D\n",
        "sites = genfromtxt('/content/SmartGatewaySelection/Locaciones.csv', delimiter=',') \n",
        "sites=np.array(sites,dtype=float)\n",
        "sites=np.delete(sites, 15, 0) #Get rid of Chihuahua, it is not necessary\n",
        "#Creamos Matriz de Distancias entre ubicaciones\n",
        "D=np.zeros((len(sites[0:,0]),len(sites[0:,0])),dtype=float)\n",
        "\n",
        "for i in range(len(sites[0:,0])):\n",
        "    for j in range(len(sites[0:,0])):\n",
        "        D[i,j]=great_circle((sites[i,0],sites[i,1]),(sites[j,0],sites[j,1])).kilometers\n",
        "\n",
        "D=np.array(D,dtype=object)\n",
        "D_tag = np.concatenate((ubicaciones,D),axis=1) #Columna de encabezados\n",
        "ubic = ubicaciones.tolist() #Convierte un array en una lista\n",
        "ubic.insert(0,[''])\n",
        "ubic = np.transpose(ubic)\n",
        "D_tag = np.concatenate((ubic,D_tag),axis=0) #Fila de encabezados\n",
        "\n",
        "#To save the distance matrix D\n",
        "#np.savetxt('.../Distance.csv',D_tag,fmt='%s',delimiter=',')\n",
        "print('done')"
      ],
      "execution_count": 14,
      "outputs": [
        {
          "output_type": "stream",
          "text": [
            "done\n"
          ],
          "name": "stdout"
        }
      ]
    },
    {
      "cell_type": "code",
      "metadata": {
        "colab": {
          "base_uri": "https://localhost:8080/"
        },
        "id": "bYor8gauCJfb",
        "outputId": "12221d23-6b56-4a86-b338-1504c1c77516"
      },
      "source": [
        "#In this routine, it is necessary to sort locations from high to low probabilities, respectively.\n",
        "#Later, locations are sorted by distances > d(km) between each other.\n",
        "\n",
        "N=8        #Number of nominal GWs (NGWs), N=4,8,12 or 16\n",
        "d_trh=80   #The minimum distance in order to avoid correlated rain.\n",
        "\n",
        "nominal_matrix=np.zeros((N,len(estado[0,0:])),dtype=object)\n",
        "redundant_matrix=np.zeros(((len(estado[0:,0])-N),len(estado[0,0:])),dtype=object)\n",
        "\n",
        "estado_ordenado = np.array(Sort(estado))\n",
        "#np.savetxt('.../Ordenado.csv',estado_ordenado[:,0:2],fmt='%s',delimiter=',')\n",
        "\n",
        "nominal_matrix=estado_ordenado[0:N,0:]\n",
        "redundant_matrix=estado_ordenado[N:,0:]\n",
        "\n",
        "filas = [' ']\n",
        "contador=0\n",
        "while (filas[0] == ' '):\n",
        "    contador+=1\n",
        "    for k in range(0,N):\n",
        "        site_ini=nominal_matrix[k,0]\n",
        "        i=list(D_tag[0,0:]).index(site_ini)\n",
        "        print(f'\\nAnalyzing the location: {site_ini}\\n')\n",
        "        for l in range(0,N):\n",
        "            site_comp=nominal_matrix[l,0]\n",
        "                    \n",
        "            j=list(D_tag[0:,0]).index(site_comp)\n",
        "    \n",
        "            if ((k==l) & (D_tag[i,j]==0)):\n",
        "                print(f'The same location is not analyzed: {site_comp}')\n",
        "            elif ((k!=l) & (D_tag[i,j]>=d_trh)):\n",
        "                print(f'The condition of the distance to {site_comp} is met: {D_tag[i,j]}')\n",
        "            elif ((k!=l) & (D_tag[i,j]<d_trh)):\n",
        "                print(f'The condition of the distance to {site_comp} is NOT met: {D_tag[i,j]}')\n",
        "                filas.append(l)\n",
        "        \n",
        "    if len(filas)>1:\n",
        "        print('\\nRow Swapping')\n",
        "        filas=list(dict.fromkeys(filas)) #To get rid of repeated elements in the array\n",
        "        \n",
        "        redundant_matrix_res=redundant_matrix #Nominal Matrix Backup\n",
        "        \n",
        "        for n in range(0,len(filas)-1):\n",
        "            #To send until the end of the redundant matrix\n",
        "            redundant_matrix=np.insert(redundant_matrix,len(estado)-N,nominal_matrix[filas[n+1],0:],axis=0)\n",
        "            #Swapping the no-valid GW of the nominal matrix with the best probability of the redundant GW. \n",
        "            nominal_matrix[filas[n+1],0:] = redundant_matrix_res[n,0:]\n",
        "            #Getting rid of the row of the backup matrix.\n",
        "            redundant_matrix=np.delete(redundant_matrix,0, axis=0)\n",
        "        filas.clear()\n",
        "        filas = [' ']\n",
        "    else:\n",
        "        print(f'\\nAll locations meet the condition, D>{d_trh} km\\n')\n",
        "        filas.clear()\n",
        "        filas.insert(0,'done')\n",
        "        \n",
        "nominal_matrix=np.array(Sort(nominal_matrix))\n",
        "redundant_matrix=np.array(Sort(redundant_matrix))\n",
        "\n",
        "print(nominal_matrix)\n",
        "print(redundant_matrix)"
      ],
      "execution_count": 23,
      "outputs": [
        {
          "output_type": "stream",
          "text": [
            "\n",
            "Analyzing the location: Torreon\n",
            "\n",
            "The same location is not analyzed: Torreon\n",
            "The condition of the distance to Cd. Juarez is met: 754.8701336424568\n",
            "The condition of the distance to La Paz (BC) is met: 715.9003747423501\n",
            "The condition of the distance to Tijuana is met: 1528.982159742854\n",
            "The condition of the distance to Oaxaca is met: 1163.0943439873479\n",
            "The condition of the distance to Queretaro is met: 627.8686226343513\n",
            "The condition of the distance to Mexico City is met: 815.9296104834172\n",
            "The condition of the distance to Guadalajara is met: 545.0972922783766\n",
            "\n",
            "Analyzing the location: Cd. Juarez\n",
            "\n",
            "The condition of the distance to Torreon is met: 754.8701336424568\n",
            "The same location is not analyzed: Cd. Juarez\n",
            "The condition of the distance to La Paz (BC) is met: 925.5643414494739\n",
            "The condition of the distance to Tijuana is met: 986.6149316940383\n",
            "The condition of the distance to Oaxaca is met: 1903.9311306862314\n",
            "The condition of the distance to Queretaro is met: 1380.748615092518\n",
            "The condition of the distance to Mexico City is met: 1565.3427029577233\n",
            "The condition of the distance to Guadalajara is met: 1274.4843300058321\n",
            "\n",
            "Analyzing the location: La Paz (BC)\n",
            "\n",
            "The condition of the distance to Torreon is met: 715.90037474235\n",
            "The condition of the distance to Cd. Juarez is met: 925.5643414494737\n",
            "The same location is not analyzed: La Paz (BC)\n",
            "The condition of the distance to Tijuana is met: 1137.1915786705442\n",
            "The condition of the distance to Oaxaca is met: 1610.1682502242306\n",
            "The condition of the distance to Queretaro is met: 1088.2907771753917\n",
            "The condition of the distance to Mexico City is met: 1266.2228811708621\n",
            "The condition of the distance to Guadalajara is met: 811.5512120701835\n",
            "\n",
            "Analyzing the location: Tijuana\n",
            "\n",
            "The condition of the distance to Torreon is met: 1528.9821597428543\n",
            "The condition of the distance to Cd. Juarez is met: 986.6149316940383\n",
            "The condition of the distance to La Paz (BC) is met: 1137.1915786705445\n",
            "The same location is not analyzed: Tijuana\n",
            "The condition of the distance to Oaxaca is met: 2654.998479254199\n",
            "The condition of the distance to Queretaro is met: 2107.1673571192587\n",
            "The condition of the distance to Mexico City is met: 2299.184987773919\n",
            "The condition of the distance to Guadalajara is met: 1886.1765881064243\n",
            "\n",
            "Analyzing the location: Oaxaca\n",
            "\n",
            "The condition of the distance to Torreon is met: 1163.0943439873479\n",
            "The condition of the distance to Cd. Juarez is met: 1903.9311306862314\n",
            "The condition of the distance to La Paz (BC) is met: 1610.1682502242306\n",
            "The condition of the distance to Tijuana is met: 2654.998479254199\n",
            "The same location is not analyzed: Oaxaca\n",
            "The condition of the distance to Queretaro is met: 548.2137738108215\n",
            "The condition of the distance to Mexico City is met: 355.82745190681754\n",
            "The condition of the distance to Guadalajara is met: 798.7082278074608\n",
            "\n",
            "Analyzing the location: Queretaro\n",
            "\n",
            "The condition of the distance to Torreon is met: 627.8686226343511\n",
            "The condition of the distance to Cd. Juarez is met: 1380.7486150925183\n",
            "The condition of the distance to La Paz (BC) is met: 1088.2907771753917\n",
            "The condition of the distance to Tijuana is met: 2107.1673571192587\n",
            "The condition of the distance to Oaxaca is met: 548.2137738108216\n",
            "The same location is not analyzed: Queretaro\n",
            "The condition of the distance to Mexico City is met: 192.70776100090407\n",
            "The condition of the distance to Guadalajara is met: 305.55137710585996\n",
            "\n",
            "Analyzing the location: Mexico City\n",
            "\n",
            "The condition of the distance to Torreon is met: 815.929610483417\n",
            "The condition of the distance to Cd. Juarez is met: 1565.3427029577233\n",
            "The condition of the distance to La Paz (BC) is met: 1266.222881170862\n",
            "The condition of the distance to Tijuana is met: 2299.184987773919\n",
            "The condition of the distance to Oaxaca is met: 355.82745190681766\n",
            "The condition of the distance to Queretaro is met: 192.70776100090407\n",
            "The same location is not analyzed: Mexico City\n",
            "The condition of the distance to Guadalajara is met: 460.93277925098045\n",
            "\n",
            "Analyzing the location: Guadalajara\n",
            "\n",
            "The condition of the distance to Torreon is met: 545.0972922783767\n",
            "The condition of the distance to Cd. Juarez is met: 1274.4843300058321\n",
            "The condition of the distance to La Paz (BC) is met: 811.5512120701836\n",
            "The condition of the distance to Tijuana is met: 1886.1765881064248\n",
            "The condition of the distance to Oaxaca is met: 798.7082278074608\n",
            "The condition of the distance to Queretaro is met: 305.55137710585996\n",
            "The condition of the distance to Mexico City is met: 460.9327792509805\n",
            "The same location is not analyzed: Guadalajara\n",
            "\n",
            "All locations meet the condition, D>80 km\n",
            "\n",
            "[['Torreon' 0.9994425418569254 1 ... 1 1 1]\n",
            " ['Cd. Juarez' 0.9992161339421614 1 ... 1 1 1]\n",
            " ['La Paz (BC)' 0.9991552511415525 1 ... 1 1 1]\n",
            " ...\n",
            " ['Queretaro' 0.998453196347032 1 ... 1 1 1]\n",
            " ['Mexico City' 0.998228691019787 1 ... 1 1 1]\n",
            " ['Guadalajara' 0.9977245053272451 1 ... 1 1 1]]\n",
            "[['Monterrey' 0.9967694063926941 1 ... 1 1 1]\n",
            " ['Tegucigalpa' 0.9963432267884322 1 ... 1 1 1]\n",
            " ['Merida' 0.9960825722983258 1 ... 1 1 1]\n",
            " ...\n",
            " ['San Juan' 0.9902226027397261 1 ... 1 1 1]\n",
            " ['Panama' 0.9898439878234399 1 ... 1 1 1]\n",
            " ['Pto. Cabezas' 0.9888831811263318 1 ... 1 1 1]]\n"
          ],
          "name": "stdout"
        }
      ]
    },
    {
      "cell_type": "code",
      "metadata": {
        "id": "5bC8k2lPaPMp",
        "outputId": "d83559b0-d4d0-4be9-dc51-99f1bd785a25",
        "colab": {
          "base_uri": "https://localhost:8080/"
        }
      },
      "source": [
        "#This routine counts the number of outages of the Ground Segment due to the rain events.\n",
        "\n",
        "contador=0\n",
        "corte_total=0\n",
        "\n",
        "backup_matrix=np.zeros((6,len(estado[0,0:])),dtype=object)\n",
        "outage_matrix=np.zeros((N,6),dtype=object)\n",
        "outage_matrix[0:,0] = nominal_matrix[0:,0]\n",
        "#To count the outages in every location\n",
        "for i in range(2,len(nominal_matrix[0,2:])): \n",
        "    if (sum(nominal_matrix[0:,i]) != N):\n",
        "        corte_total+=1   #Number of outages in all system\n",
        "        #Switching routine\n",
        "        out_array=np.array(np.where(np.isin(nominal_matrix[0:,i],0))).tolist() #To find zero values in the column array\n",
        "        out_array=out_array[0] \n",
        "        k=0\n",
        "        for j in range(0,len(out_array)):\n",
        "            terminator=0\n",
        "            while (terminator == 0):\n",
        "                if redundant_matrix[k,i] == 1:\n",
        "                    backup_matrix[k,i] = 1\n",
        "                    backup_matrix[k,0]=redundant_matrix[k,0] #PGW Tag\n",
        "                    k+=1\n",
        "                    outage_matrix[out_array[j],k]+=1 #It indicates in which NGWs there is an outage\n",
        "                    terminator=1\n",
        "                    contador+=1  #Outage counter by intervals\n",
        "                else:\n",
        "                    k+=1    \n",
        "print('\\n')\n",
        "print(sum(backup_matrix[0,2:]))\n",
        "print(sum(backup_matrix[1,2:]))\n",
        "print(sum(backup_matrix[2,2:]))\n",
        "print(sum(backup_matrix[3,2:]))\n",
        "print(sum(backup_matrix[4,2:]))\n",
        "print('\\n')\n",
        "print(f'Outages by intervals: {contador}')\n",
        "print(f'System Outages: {corte_total}')\n",
        "print(f'The outage availability is: {(corte_total/len(nominal_matrix[0,2:]))*100}%') \n",
        "#Podría ser considerado probabilildad de switcheo\n",
        "available=1\n",
        "for i in range(0,len(nominal_matrix[0:,1])):\n",
        "    available=nominal_matrix[i,1]*available\n",
        "    \n",
        "print(f'The total availability is: {available*100}%')\n",
        "#print(f'Total: {((corte_total/len(nominal_matrix[0,2:]))*100)+(available*100)}')\n",
        "print('\\n')\n",
        "outage_matrix=np.transpose(outage_matrix)\n",
        "outage_matrix=outage_matrix[~np.all(outage_matrix == 0, axis=1)] #remove 0 rows\n",
        "outage_matrix=np.transpose(outage_matrix)\n",
        "print(outage_matrix)\n",
        "print('\\n')\n",
        "backup_matrix=backup_matrix[~np.all(backup_matrix == 0, axis=1)] #remove 0 rows\n",
        "print(backup_matrix)\n",
        "\n",
        "#+++++++++++++++++++++++++++++++++++++++++++++++++++++++++++++++++++++++++++++++\n",
        "#To save the outage matrix with the redundant GWs that it supports it\n",
        "ubic = backup_matrix[0:,0].tolist() #It converts an array into a list\n",
        "ubic.insert(0,' ')\n",
        "ubic=np.reshape(ubic,(-1,len(outage_matrix[0,0:]))) \n",
        "outage_matrix = np.concatenate((ubic,outage_matrix),axis=0) #Header rows\n",
        "\n",
        "#To save into files\n",
        "#np.savetxt(f'/.../out_{N}_d_{d_trh}.csv',outage_matrix,fmt='%s',delimiter=',')\n",
        "#++++++++++++++++++++++++++++++++++++++++++++++++++++++++++++++++++++++++++++++\n",
        "#N+P availabilities \n",
        "dim = len(nominal_matrix[0,2:]) \n",
        "available_matrix=outage_matrix\n",
        "available_matrix=np.insert(outage_matrix,1,0,axis=1)\n",
        "available_matrix[1:,1]=nominal_matrix[0:,1]  \n",
        "\n",
        "for i in range(1,len(available_matrix[0:,0])):\n",
        "    temp=0\n",
        "    for j in range(2,len(available_matrix[0,0:])):\n",
        "        available_matrix[i,j]=(sum(nominal_matrix[i-1,2:])+temp+available_matrix[i,j])/dim\n",
        "        temp+=outage_matrix[i,j-1]\n",
        "#To save into files\n",
        "#np.savetxt(f'/.../avai_{N}_d_{d_trh}.csv',available_matrix,fmt='%s',delimiter=',')\n",
        "#++++++++++++++++++++++++++++++++++++++++++++++++++++++++++++++++++++++++++++++\n",
        "print(f'done {N} GWs')    \n",
        "#++++++++++++++++++++++++++++++++++++++++++++++++++++++++++++++++++++++++++++++"
      ],
      "execution_count": 24,
      "outputs": [
        {
          "output_type": "stream",
          "text": [
            "\n",
            "\n",
            "5317\n",
            "51\n",
            "0\n",
            "0\n",
            "0\n",
            "\n",
            "\n",
            "Outages by intervals: 5368\n",
            "System Outages: 5340\n",
            "The outage availability is: 1.0159817351598175%\n",
            "The total availability is: 98.9831272746979%\n",
            "\n",
            "\n",
            "[['Torreon' 292 1]\n",
            " ['Cd. Juarez' 412 0]\n",
            " ['La Paz (BC)' 444 0]\n",
            " ['Tijuana' 549 0]\n",
            " ['Oaxaca' 730 0]\n",
            " ['Queretaro' 793 20]\n",
            " ['Mexico City' 907 24]\n",
            " ['Guadalajara' 1190 6]]\n",
            "\n",
            "\n",
            "[['Monterrey' 0 0 ... 0 0 0]\n",
            " ['Tegucigalpa' 0 0 ... 0 0 0]]\n",
            "done 8 GWs\n"
          ],
          "name": "stdout"
        }
      ]
    }
  ]
}