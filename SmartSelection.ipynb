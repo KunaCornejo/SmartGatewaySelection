{
  "nbformat": 4,
  "nbformat_minor": 0,
  "metadata": {
    "colab": {
      "name": "SmartSelection.ipynb",
      "provenance": [],
      "authorship_tag": "ABX9TyPuTDfS0wST2Nq8mCqfrqZu",
      "include_colab_link": true
    },
    "kernelspec": {
      "name": "python3",
      "display_name": "Python 3"
    }
  },
  "cells": [
    {
      "cell_type": "markdown",
      "metadata": {
        "id": "view-in-github",
        "colab_type": "text"
      },
      "source": [
        "<a href=\"https://colab.research.google.com/github/KunaCornejo/SmartGatewaySelection/blob/main/SmartSelection.ipynb\" target=\"_parent\"><img src=\"https://colab.research.google.com/assets/colab-badge.svg\" alt=\"Open In Colab\"/></a>"
      ]
    },
    {
      "cell_type": "code",
      "metadata": {
        "id": "vZvUhxMPGyq-"
      },
      "source": [
        "import numpy as np\n",
        "from numpy import genfromtxt\n",
        "from geopy.distance import great_circle"
      ],
      "execution_count": 1,
      "outputs": []
    },
    {
      "cell_type": "code",
      "metadata": {
        "colab": {
          "base_uri": "https://localhost:8080/"
        },
        "id": "GN1VhBfZI-Kf",
        "outputId": "5717170b-dca8-4c96-f7f4-1d13cb42502a"
      },
      "source": [
        "#import git\n",
        "!git clone https://github.com/KunaCornejo/SmartGatewaySelection.git\n"
      ],
      "execution_count": 2,
      "outputs": [
        {
          "output_type": "stream",
          "text": [
            "Cloning into 'SmartGatewaySelection'...\n",
            "remote: Enumerating objects: 6, done.\u001b[K\n",
            "remote: Counting objects: 100% (6/6), done.\u001b[K\n",
            "remote: Compressing objects: 100% (5/5), done.\u001b[K\n",
            "remote: Total 6 (delta 0), reused 0 (delta 0), pack-reused 0\u001b[K\n",
            "Unpacking objects: 100% (6/6), done.\n"
          ],
          "name": "stdout"
        }
      ]
    },
    {
      "cell_type": "code",
      "metadata": {
        "colab": {
          "base_uri": "https://localhost:8080/"
        },
        "id": "FSxIFPN1JyUT",
        "outputId": "277447fe-b765-43e3-a1c8-89095ee9f55b"
      },
      "source": [
        "ls 'SmartGatewaySelection'"
      ],
      "execution_count": 18,
      "outputs": [
        {
          "output_type": "stream",
          "text": [
            "c_n_ul.csv  SmartSelection.ipynb\n"
          ],
          "name": "stdout"
        }
      ]
    },
    {
      "cell_type": "code",
      "metadata": {
        "id": "JyI2ZPZnJ4BA"
      },
      "source": [
        "c_n_ul = genfromtxt('/content/SmartGatewaySelection/c_n_ul.csv', delimiter=',') \n",
        "c_n_ul=list(c_n_ul)"
      ],
      "execution_count": 24,
      "outputs": []
    },
    {
      "cell_type": "code",
      "metadata": {
        "id": "5UfxiIBNXJim",
        "outputId": "8e8990c0-6967-4d84-ef09-8cb861231167",
        "colab": {
          "base_uri": "https://localhost:8080/"
        }
      },
      "source": [
        "ubicaciones=['Panama','San Jose','Tegucigalpa','CDMX','Monterrey','Guadalajara'\\\n",
        "             ,'Tijuana','La Habana','Sto. Domingo','San Salvador','San Juan',\\\n",
        "             'Torreon','La Paz (BC)','Veracruz','Cancun','Queretaro'\\\n",
        "             ,'Tuxtla (Gtz)','Cd. Juarez','San Pedro Sula','Belmopan','Kingston'\\\n",
        "             ,'Merida','Pto. Cabezas','Oaxaca']\n",
        "ubicaciones=np.transpose([ubicaciones])\n",
        "C_N_UL=np.array([c_n_ul],dtype=object) \n",
        "C_N_UL=np.transpose(C_N_UL)\n",
        "C_N_UL=np.delete(C_N_UL, 15, 0) #Get rid of Chihuahua, it is not necessary\n",
        "CN_UP=np.concatenate((ubicaciones,C_N_UL),axis=1) #Concatenamos two lists\n",
        "print(CN_UP)"
      ],
      "execution_count": 26,
      "outputs": [
        {
          "output_type": "stream",
          "text": [
            "[['Panama' 32.4401636]\n",
            " ['San Jose' 32.4611016]\n",
            " ['Tegucigalpa' 32.4450513]\n",
            " ['CDMX' 32.3918091]\n",
            " ['Monterrey' 32.313151]\n",
            " ['Guadalajara' 32.3588726]\n",
            " ['Tijuana' 32.0981607]\n",
            " ['La Habana' 32.3380601]\n",
            " ['Sto. Domingo' 32.2887155]\n",
            " ['San Salvador' 32.4521009]\n",
            " ['San Juan' 32.2438352]\n",
            " ['Torreon' 32.301041]\n",
            " ['La Paz (BC)' 32.2705558]\n",
            " ['Veracruz' 32.4018877]\n",
            " ['Cancun' 32.3779865]\n",
            " ['Queretaro' 32.3736176]\n",
            " ['Tuxtla (Gtz)' 32.4294244]\n",
            " ['Cd. Juarez' 32.195777]\n",
            " ['San Pedro Sula' 32.4354086]\n",
            " ['Belmopan' 32.4215586]\n",
            " ['Kingston' 32.3572017]\n",
            " ['Merida' 32.3851709]\n",
            " ['Pto. Cabezas' 32.4314209]\n",
            " ['Oaxaca' 32.4205395]]\n"
          ],
          "name": "stdout"
        }
      ]
    }
  ]
}